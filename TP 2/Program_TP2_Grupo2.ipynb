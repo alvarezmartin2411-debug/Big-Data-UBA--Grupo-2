{
 "cells": [
  {
   "cell_type": "markdown",
   "id": "ee0c9908",
   "metadata": {},
   "source": [
    "Trabajo práctico Nº 2 - Grupo 2\n",
    "\n",
    "Godino, Sulca y Alvarez"
   ]
  },
  {
   "cell_type": "markdown",
   "id": "481a4e5d",
   "metadata": {},
   "source": [
    "Base de datos"
   ]
  },
  {
   "cell_type": "code",
   "execution_count": null,
   "id": "44401b94",
   "metadata": {},
   "outputs": [],
   "source": []
  }
 ],
 "metadata": {
  "language_info": {
   "name": "python"
  }
 },
 "nbformat": 4,
 "nbformat_minor": 5
}
